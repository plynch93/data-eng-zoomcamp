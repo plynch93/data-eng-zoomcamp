{
 "cells": [
  {
   "cell_type": "code",
   "execution_count": null,
   "id": "b4b6dcb9-3a25-49b9-b68d-52e27694f9a9",
   "metadata": {},
   "outputs": [],
   "source": [
    "import pyspark\n",
    "from pyspark.sql import SparkSession"
   ]
  },
  {
   "cell_type": "code",
   "execution_count": null,
   "id": "1326ab5b-f920-4146-a098-87be02d97b49",
   "metadata": {},
   "outputs": [],
   "source": [
    "spark = SparkSession.builder \\\n",
    "    .master(\"local[*]\") \\\n",
    "    .appName('test') \\\n",
    "    .getOrCreate()"
   ]
  },
  {
   "cell_type": "code",
   "execution_count": null,
   "id": "abf5c943-217f-490d-adae-ec343e7a7b2e",
   "metadata": {},
   "outputs": [],
   "source": [
    "spark.version"
   ]
  },
  {
   "cell_type": "code",
   "execution_count": null,
   "id": "15abe1ce-c0bf-4f94-b88d-14028e03bfde",
   "metadata": {},
   "outputs": [],
   "source": [
    "!wget https://d37ci6vzurychx.cloudfront.net/trip-data/yellow_tripdata_2024-10.parquet"
   ]
  },
  {
   "cell_type": "code",
   "execution_count": null,
   "id": "e51989eb-a5db-41c3-899d-30437dc74b62",
   "metadata": {},
   "outputs": [],
   "source": [
    "df = spark.read.parquet('yellow_tripdata_2024-10.parquet')"
   ]
  },
  {
   "cell_type": "code",
   "execution_count": null,
   "id": "50b9b625-cd56-4329-b139-d10d52ba7b59",
   "metadata": {},
   "outputs": [],
   "source": [
    "df.count()"
   ]
  },
  {
   "cell_type": "code",
   "execution_count": null,
   "id": "d092e45b-17db-4dd6-9fd2-ddb8fdb4f62f",
   "metadata": {},
   "outputs": [],
   "source": [
    "df = df.repartition(4)"
   ]
  },
  {
   "cell_type": "code",
   "execution_count": null,
   "id": "b3ea7b0a-6d8f-4889-b7d6-a94966c0b177",
   "metadata": {},
   "outputs": [],
   "source": [
    "df.write.parquet('/tmp/yellow/2024/10/')"
   ]
  },
  {
   "cell_type": "code",
   "execution_count": null,
   "id": "844fb7db-9618-409a-bccb-625077e80a37",
   "metadata": {},
   "outputs": [],
   "source": [
    "df.show(10)"
   ]
  },
  {
   "cell_type": "code",
   "execution_count": null,
   "id": "21b4b981-3a67-491e-89a9-7c0830be2b1e",
   "metadata": {},
   "outputs": [],
   "source": []
  },
  {
   "cell_type": "code",
   "execution_count": null,
   "id": "50597f6a-3b3b-44ec-a8bf-2356a847226d",
   "metadata": {},
   "outputs": [],
   "source": [
    "from pyspark.sql import functions as F"
   ]
  },
  {
   "cell_type": "code",
   "execution_count": null,
   "id": "9b83ee37-061a-40e4-b9a6-ec594910aa84",
   "metadata": {},
   "outputs": [],
   "source": [
    "df = df \\\n",
    "    .withColumn('pickup_date', F.to_date(df.tpep_pickup_datetime)) \\\n",
    "    .withColumn('dropoff_date', F.to_date(df.tpep_dropoff_datetime)) "
   ]
  },
  {
   "cell_type": "code",
   "execution_count": null,
   "id": "931c8e0d-0df2-44f1-a440-bbc894c2c872",
   "metadata": {},
   "outputs": [],
   "source": [
    "df.filter( \\\n",
    "    (df.pickup_date == '2024-10-15') & (df.dropoff_date == '2024-10-15')) \\\n",
    "    .count()"
   ]
  },
  {
   "cell_type": "code",
   "execution_count": null,
   "id": "91dd74f4-700a-4796-acd4-636e657e3e00",
   "metadata": {},
   "outputs": [],
   "source": [
    "df.schema"
   ]
  },
  {
   "cell_type": "code",
   "execution_count": null,
   "id": "1232d844-9464-42cc-8bff-8a2ae8418235",
   "metadata": {},
   "outputs": [],
   "source": [
    "df = df.withColumn('trip_duration', (F.col('tpep_dropoff_datetime') - F.col('tpep_pickup_datetime')).cast('long'))"
   ]
  },
  {
   "cell_type": "code",
   "execution_count": null,
   "id": "5e502a78-a849-40fa-8e4d-9a28c3977703",
   "metadata": {},
   "outputs": [],
   "source": [
    "df.select((F.max('trip_duration'))/3600).show()"
   ]
  },
  {
   "cell_type": "code",
   "execution_count": null,
   "id": "49805671-ec0f-47d8-9a33-50163d876e3c",
   "metadata": {},
   "outputs": [],
   "source": [
    "!wget https://d37ci6vzurychx.cloudfront.net/misc/taxi_zone_lookup.csv"
   ]
  },
  {
   "cell_type": "code",
   "execution_count": null,
   "id": "5b30f3c3-5c20-4dd1-8c0a-a56e97e82354",
   "metadata": {},
   "outputs": [],
   "source": [
    "df_zone = spark.read.csv('taxi_zone_lookup.csv', header = 'True', inferSchema = 'True')"
   ]
  },
  {
   "cell_type": "code",
   "execution_count": null,
   "id": "4e9e0a27-29dd-4800-9f20-057136ec4fc7",
   "metadata": {},
   "outputs": [],
   "source": [
    "df_zone.show()"
   ]
  },
  {
   "cell_type": "code",
   "execution_count": null,
   "id": "616b4619-ab61-4512-ac90-e246eb915f60",
   "metadata": {},
   "outputs": [],
   "source": [
    "df = df.join(df_zone, df.PULocationID == df_zone.LocationID)"
   ]
  },
  {
   "cell_type": "code",
   "execution_count": null,
   "id": "a33378df-01fd-4d67-8433-afe797a7adb7",
   "metadata": {},
   "outputs": [],
   "source": [
    "from pyspark.sql.functions import count, desc, asc"
   ]
  },
  {
   "cell_type": "code",
   "execution_count": null,
   "id": "daba51e5-db9d-47a1-a312-5ad9a90564ba",
   "metadata": {},
   "outputs": [],
   "source": [
    "df.groupBy('Zone') \\\n",
    "  .agg(count('*').alias('Count')) \\\n",
    "  .sort(asc('Count')) \\\n",
    "  .show()"
   ]
  }
 ],
 "metadata": {
  "kernelspec": {
   "display_name": "Python 3 (ipykernel)",
   "language": "python",
   "name": "python3"
  },
  "language_info": {
   "codemirror_mode": {
    "name": "ipython",
    "version": 3
   },
   "file_extension": ".py",
   "mimetype": "text/x-python",
   "name": "python",
   "nbconvert_exporter": "python",
   "pygments_lexer": "ipython3",
   "version": "3.12.9"
  }
 },
 "nbformat": 4,
 "nbformat_minor": 5
}
